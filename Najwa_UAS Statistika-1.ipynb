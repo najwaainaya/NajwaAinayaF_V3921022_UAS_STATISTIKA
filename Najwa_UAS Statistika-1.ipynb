{
 "cells": [
  {
   "cell_type": "code",
   "execution_count": 183,
   "metadata": {},
   "outputs": [],
   "source": [
    "import numpy as np\n",
    "import pandas as pd\n",
    "import matplotlib\n",
    "import matplotlib.pyplot as plt\n",
    "import sklearn"
   ]
  },
  {
   "cell_type": "code",
   "execution_count": 184,
   "metadata": {},
   "outputs": [
    {
     "data": {
      "text/html": [
       "<div>\n",
       "<style scoped>\n",
       "    .dataframe tbody tr th:only-of-type {\n",
       "        vertical-align: middle;\n",
       "    }\n",
       "\n",
       "    .dataframe tbody tr th {\n",
       "        vertical-align: top;\n",
       "    }\n",
       "\n",
       "    .dataframe thead th {\n",
       "        text-align: right;\n",
       "    }\n",
       "</style>\n",
       "<table border=\"1\" class=\"dataframe\">\n",
       "  <thead>\n",
       "    <tr style=\"text-align: right;\">\n",
       "      <th></th>\n",
       "      <th>DAY_OF_MONTH</th>\n",
       "      <th>DAY_OF_WEEK</th>\n",
       "      <th>OP_UNIQUE_CARRIER</th>\n",
       "      <th>OP_CARRIER_AIRLINE_ID</th>\n",
       "      <th>OP_CARRIER</th>\n",
       "      <th>TAIL_NUM</th>\n",
       "      <th>OP_CARRIER_FL_NUM</th>\n",
       "      <th>ORIGIN_AIRPORT_ID</th>\n",
       "      <th>ORIGIN</th>\n",
       "      <th>DEST_AIRPORT_ID</th>\n",
       "      <th>DEST</th>\n",
       "      <th>DEP_TIME</th>\n",
       "      <th>DEP_DEL15</th>\n",
       "      <th>DEP_TIME_BLK</th>\n",
       "      <th>ARR_TIME</th>\n",
       "      <th>ARR_DEL15</th>\n",
       "      <th>CANCELLED</th>\n",
       "      <th>DIVERTED</th>\n",
       "      <th>DISTANCE</th>\n",
       "    </tr>\n",
       "  </thead>\n",
       "  <tbody>\n",
       "    <tr>\n",
       "      <th>0</th>\n",
       "      <td>1</td>\n",
       "      <td>2</td>\n",
       "      <td>9E</td>\n",
       "      <td>20363</td>\n",
       "      <td>9E</td>\n",
       "      <td>N8688C</td>\n",
       "      <td>3280</td>\n",
       "      <td>11953</td>\n",
       "      <td>GNV</td>\n",
       "      <td>10397</td>\n",
       "      <td>ATL</td>\n",
       "      <td>601.0</td>\n",
       "      <td>0.0</td>\n",
       "      <td>0600-0659</td>\n",
       "      <td>722.0</td>\n",
       "      <td>0.0</td>\n",
       "      <td>0</td>\n",
       "      <td>0</td>\n",
       "      <td>300</td>\n",
       "    </tr>\n",
       "    <tr>\n",
       "      <th>1</th>\n",
       "      <td>1</td>\n",
       "      <td>2</td>\n",
       "      <td>9E</td>\n",
       "      <td>20363</td>\n",
       "      <td>9E</td>\n",
       "      <td>N348PQ</td>\n",
       "      <td>3281</td>\n",
       "      <td>13487</td>\n",
       "      <td>MSP</td>\n",
       "      <td>11193</td>\n",
       "      <td>CVG</td>\n",
       "      <td>1359.0</td>\n",
       "      <td>0.0</td>\n",
       "      <td>1400-1459</td>\n",
       "      <td>1633.0</td>\n",
       "      <td>0.0</td>\n",
       "      <td>0</td>\n",
       "      <td>0</td>\n",
       "      <td>596</td>\n",
       "    </tr>\n",
       "    <tr>\n",
       "      <th>2</th>\n",
       "      <td>1</td>\n",
       "      <td>2</td>\n",
       "      <td>9E</td>\n",
       "      <td>20363</td>\n",
       "      <td>9E</td>\n",
       "      <td>N8896A</td>\n",
       "      <td>3282</td>\n",
       "      <td>11433</td>\n",
       "      <td>DTW</td>\n",
       "      <td>11193</td>\n",
       "      <td>CVG</td>\n",
       "      <td>1215.0</td>\n",
       "      <td>0.0</td>\n",
       "      <td>1200-1259</td>\n",
       "      <td>1329.0</td>\n",
       "      <td>0.0</td>\n",
       "      <td>0</td>\n",
       "      <td>0</td>\n",
       "      <td>229</td>\n",
       "    </tr>\n",
       "    <tr>\n",
       "      <th>3</th>\n",
       "      <td>1</td>\n",
       "      <td>2</td>\n",
       "      <td>9E</td>\n",
       "      <td>20363</td>\n",
       "      <td>9E</td>\n",
       "      <td>N8886A</td>\n",
       "      <td>3283</td>\n",
       "      <td>15249</td>\n",
       "      <td>TLH</td>\n",
       "      <td>10397</td>\n",
       "      <td>ATL</td>\n",
       "      <td>1521.0</td>\n",
       "      <td>0.0</td>\n",
       "      <td>1500-1559</td>\n",
       "      <td>1625.0</td>\n",
       "      <td>0.0</td>\n",
       "      <td>0</td>\n",
       "      <td>0</td>\n",
       "      <td>223</td>\n",
       "    </tr>\n",
       "    <tr>\n",
       "      <th>4</th>\n",
       "      <td>1</td>\n",
       "      <td>2</td>\n",
       "      <td>9E</td>\n",
       "      <td>20363</td>\n",
       "      <td>9E</td>\n",
       "      <td>N8974C</td>\n",
       "      <td>3284</td>\n",
       "      <td>10397</td>\n",
       "      <td>ATL</td>\n",
       "      <td>11778</td>\n",
       "      <td>FSM</td>\n",
       "      <td>1847.0</td>\n",
       "      <td>0.0</td>\n",
       "      <td>1900-1959</td>\n",
       "      <td>1940.0</td>\n",
       "      <td>0.0</td>\n",
       "      <td>0</td>\n",
       "      <td>0</td>\n",
       "      <td>579</td>\n",
       "    </tr>\n",
       "    <tr>\n",
       "      <th>...</th>\n",
       "      <td>...</td>\n",
       "      <td>...</td>\n",
       "      <td>...</td>\n",
       "      <td>...</td>\n",
       "      <td>...</td>\n",
       "      <td>...</td>\n",
       "      <td>...</td>\n",
       "      <td>...</td>\n",
       "      <td>...</td>\n",
       "      <td>...</td>\n",
       "      <td>...</td>\n",
       "      <td>...</td>\n",
       "      <td>...</td>\n",
       "      <td>...</td>\n",
       "      <td>...</td>\n",
       "      <td>...</td>\n",
       "      <td>...</td>\n",
       "      <td>...</td>\n",
       "      <td>...</td>\n",
       "    </tr>\n",
       "    <tr>\n",
       "      <th>583980</th>\n",
       "      <td>31</td>\n",
       "      <td>4</td>\n",
       "      <td>UA</td>\n",
       "      <td>19977</td>\n",
       "      <td>UA</td>\n",
       "      <td>N776UA</td>\n",
       "      <td>200</td>\n",
       "      <td>12016</td>\n",
       "      <td>GUM</td>\n",
       "      <td>12173</td>\n",
       "      <td>HNL</td>\n",
       "      <td>749.0</td>\n",
       "      <td>0.0</td>\n",
       "      <td>0700-0759</td>\n",
       "      <td>1832.0</td>\n",
       "      <td>0.0</td>\n",
       "      <td>0</td>\n",
       "      <td>0</td>\n",
       "      <td>3801</td>\n",
       "    </tr>\n",
       "    <tr>\n",
       "      <th>583981</th>\n",
       "      <td>31</td>\n",
       "      <td>4</td>\n",
       "      <td>UA</td>\n",
       "      <td>19977</td>\n",
       "      <td>UA</td>\n",
       "      <td>N36280</td>\n",
       "      <td>174</td>\n",
       "      <td>12016</td>\n",
       "      <td>GUM</td>\n",
       "      <td>14955</td>\n",
       "      <td>SPN</td>\n",
       "      <td>717.0</td>\n",
       "      <td>0.0</td>\n",
       "      <td>0700-0759</td>\n",
       "      <td>759.0</td>\n",
       "      <td>0.0</td>\n",
       "      <td>0</td>\n",
       "      <td>0</td>\n",
       "      <td>129</td>\n",
       "    </tr>\n",
       "    <tr>\n",
       "      <th>583982</th>\n",
       "      <td>31</td>\n",
       "      <td>4</td>\n",
       "      <td>UA</td>\n",
       "      <td>19977</td>\n",
       "      <td>UA</td>\n",
       "      <td>N36280</td>\n",
       "      <td>117</td>\n",
       "      <td>14955</td>\n",
       "      <td>SPN</td>\n",
       "      <td>12016</td>\n",
       "      <td>GUM</td>\n",
       "      <td>857.0</td>\n",
       "      <td>0.0</td>\n",
       "      <td>0900-0959</td>\n",
       "      <td>933.0</td>\n",
       "      <td>0.0</td>\n",
       "      <td>0</td>\n",
       "      <td>0</td>\n",
       "      <td>129</td>\n",
       "    </tr>\n",
       "    <tr>\n",
       "      <th>583983</th>\n",
       "      <td>31</td>\n",
       "      <td>4</td>\n",
       "      <td>UA</td>\n",
       "      <td>19977</td>\n",
       "      <td>UA</td>\n",
       "      <td>N39726</td>\n",
       "      <td>105</td>\n",
       "      <td>14955</td>\n",
       "      <td>SPN</td>\n",
       "      <td>12016</td>\n",
       "      <td>GUM</td>\n",
       "      <td>1820.0</td>\n",
       "      <td>0.0</td>\n",
       "      <td>1800-1859</td>\n",
       "      <td>1854.0</td>\n",
       "      <td>0.0</td>\n",
       "      <td>0</td>\n",
       "      <td>0</td>\n",
       "      <td>129</td>\n",
       "    </tr>\n",
       "    <tr>\n",
       "      <th>583984</th>\n",
       "      <td>31</td>\n",
       "      <td>4</td>\n",
       "      <td>UA</td>\n",
       "      <td>19977</td>\n",
       "      <td>UA</td>\n",
       "      <td>N39726</td>\n",
       "      <td>104</td>\n",
       "      <td>12016</td>\n",
       "      <td>GUM</td>\n",
       "      <td>14955</td>\n",
       "      <td>SPN</td>\n",
       "      <td>1636.0</td>\n",
       "      <td>0.0</td>\n",
       "      <td>1600-1659</td>\n",
       "      <td>1719.0</td>\n",
       "      <td>0.0</td>\n",
       "      <td>0</td>\n",
       "      <td>0</td>\n",
       "      <td>129</td>\n",
       "    </tr>\n",
       "  </tbody>\n",
       "</table>\n",
       "<p>583985 rows × 19 columns</p>\n",
       "</div>"
      ],
      "text/plain": [
       "        DAY_OF_MONTH  DAY_OF_WEEK OP_UNIQUE_CARRIER  OP_CARRIER_AIRLINE_ID  \\\n",
       "0                  1            2                9E                  20363   \n",
       "1                  1            2                9E                  20363   \n",
       "2                  1            2                9E                  20363   \n",
       "3                  1            2                9E                  20363   \n",
       "4                  1            2                9E                  20363   \n",
       "...              ...          ...               ...                    ...   \n",
       "583980            31            4                UA                  19977   \n",
       "583981            31            4                UA                  19977   \n",
       "583982            31            4                UA                  19977   \n",
       "583983            31            4                UA                  19977   \n",
       "583984            31            4                UA                  19977   \n",
       "\n",
       "       OP_CARRIER TAIL_NUM  OP_CARRIER_FL_NUM  ORIGIN_AIRPORT_ID ORIGIN  \\\n",
       "0              9E   N8688C               3280              11953    GNV   \n",
       "1              9E   N348PQ               3281              13487    MSP   \n",
       "2              9E   N8896A               3282              11433    DTW   \n",
       "3              9E   N8886A               3283              15249    TLH   \n",
       "4              9E   N8974C               3284              10397    ATL   \n",
       "...           ...      ...                ...                ...    ...   \n",
       "583980         UA   N776UA                200              12016    GUM   \n",
       "583981         UA   N36280                174              12016    GUM   \n",
       "583982         UA   N36280                117              14955    SPN   \n",
       "583983         UA   N39726                105              14955    SPN   \n",
       "583984         UA   N39726                104              12016    GUM   \n",
       "\n",
       "        DEST_AIRPORT_ID DEST  DEP_TIME  DEP_DEL15 DEP_TIME_BLK  ARR_TIME  \\\n",
       "0                 10397  ATL     601.0        0.0    0600-0659     722.0   \n",
       "1                 11193  CVG    1359.0        0.0    1400-1459    1633.0   \n",
       "2                 11193  CVG    1215.0        0.0    1200-1259    1329.0   \n",
       "3                 10397  ATL    1521.0        0.0    1500-1559    1625.0   \n",
       "4                 11778  FSM    1847.0        0.0    1900-1959    1940.0   \n",
       "...                 ...  ...       ...        ...          ...       ...   \n",
       "583980            12173  HNL     749.0        0.0    0700-0759    1832.0   \n",
       "583981            14955  SPN     717.0        0.0    0700-0759     759.0   \n",
       "583982            12016  GUM     857.0        0.0    0900-0959     933.0   \n",
       "583983            12016  GUM    1820.0        0.0    1800-1859    1854.0   \n",
       "583984            14955  SPN    1636.0        0.0    1600-1659    1719.0   \n",
       "\n",
       "        ARR_DEL15  CANCELLED  DIVERTED  DISTANCE  \n",
       "0             0.0          0         0       300  \n",
       "1             0.0          0         0       596  \n",
       "2             0.0          0         0       229  \n",
       "3             0.0          0         0       223  \n",
       "4             0.0          0         0       579  \n",
       "...           ...        ...       ...       ...  \n",
       "583980        0.0          0         0      3801  \n",
       "583981        0.0          0         0       129  \n",
       "583982        0.0          0         0       129  \n",
       "583983        0.0          0         0       129  \n",
       "583984        0.0          0         0       129  \n",
       "\n",
       "[583985 rows x 19 columns]"
      ]
     },
     "execution_count": 184,
     "metadata": {},
     "output_type": "execute_result"
    }
   ],
   "source": [
    "#input data\n",
    "data = 'C:/Users/User/Downloads/Jan_2019_ontime.csv' \n",
    "#menampilkan data\n",
    "df = pd.read_csv(data)\n",
    "df"
   ]
  },
  {
   "cell_type": "code",
   "execution_count": 185,
   "metadata": {},
   "outputs": [
    {
     "data": {
      "text/plain": [
       "(583985, 19)"
      ]
     },
     "execution_count": 185,
     "metadata": {},
     "output_type": "execute_result"
    }
   ],
   "source": [
    "#bentuk dimensi dataset (baris/kolom)\n",
    "df.shape "
   ]
  },
  {
   "cell_type": "code",
   "execution_count": 186,
   "metadata": {},
   "outputs": [
    {
     "name": "stdout",
     "output_type": "stream",
     "text": [
      "<class 'pandas.core.frame.DataFrame'>\n",
      "RangeIndex: 583985 entries, 0 to 583984\n",
      "Data columns (total 19 columns):\n",
      " #   Column                 Non-Null Count   Dtype  \n",
      "---  ------                 --------------   -----  \n",
      " 0   DAY_OF_MONTH           583985 non-null  int64  \n",
      " 1   DAY_OF_WEEK            583985 non-null  int64  \n",
      " 2   OP_UNIQUE_CARRIER      583985 non-null  object \n",
      " 3   OP_CARRIER_AIRLINE_ID  583985 non-null  int64  \n",
      " 4   OP_CARRIER             583985 non-null  object \n",
      " 5   TAIL_NUM               581442 non-null  object \n",
      " 6   OP_CARRIER_FL_NUM      583985 non-null  int64  \n",
      " 7   ORIGIN_AIRPORT_ID      583985 non-null  int64  \n",
      " 8   ORIGIN                 583985 non-null  object \n",
      " 9   DEST_AIRPORT_ID        583985 non-null  int64  \n",
      " 10  DEST                   583985 non-null  object \n",
      " 11  DEP_TIME               567633 non-null  float64\n",
      " 12  DEP_DEL15              567630 non-null  float64\n",
      " 13  DEP_TIME_BLK           583985 non-null  object \n",
      " 14  ARR_TIME               566924 non-null  float64\n",
      " 15  ARR_DEL15              565963 non-null  float64\n",
      " 16  CANCELLED              583985 non-null  int64  \n",
      " 17  DIVERTED               583985 non-null  int64  \n",
      " 18  DISTANCE               583985 non-null  int64  \n",
      "dtypes: float64(4), int64(9), object(6)\n",
      "memory usage: 84.7+ MB\n"
     ]
    }
   ],
   "source": [
    " #melihat kumpulan data\n",
    "df.info()"
   ]
  },
  {
   "cell_type": "code",
   "execution_count": 187,
   "metadata": {},
   "outputs": [
    {
     "data": {
      "text/plain": [
       "DAY_OF_MONTH                 0\n",
       "DAY_OF_WEEK                  0\n",
       "OP_UNIQUE_CARRIER            0\n",
       "OP_CARRIER_AIRLINE_ID        0\n",
       "OP_CARRIER                   0\n",
       "TAIL_NUM                  2543\n",
       "OP_CARRIER_FL_NUM            0\n",
       "ORIGIN_AIRPORT_ID            0\n",
       "ORIGIN                       0\n",
       "DEST_AIRPORT_ID              0\n",
       "DEST                         0\n",
       "DEP_TIME                 16352\n",
       "DEP_DEL15                16355\n",
       "DEP_TIME_BLK                 0\n",
       "ARR_TIME                 17061\n",
       "ARR_DEL15                18022\n",
       "CANCELLED                    0\n",
       "DIVERTED                     0\n",
       "DISTANCE                     0\n",
       "dtype: int64"
      ]
     },
     "execution_count": 187,
     "metadata": {},
     "output_type": "execute_result"
    }
   ],
   "source": [
    "#mengetahui nilai yang kosong\n",
    "df.isnull().sum() "
   ]
  },
  {
   "cell_type": "code",
   "execution_count": 188,
   "metadata": {},
   "outputs": [
    {
     "data": {
      "text/plain": [
       "70333"
      ]
     },
     "execution_count": 188,
     "metadata": {},
     "output_type": "execute_result"
    }
   ],
   "source": [
    "df.isnull().values.sum() #mengetahui data yang kosong"
   ]
  },
  {
   "cell_type": "code",
   "execution_count": 189,
   "metadata": {},
   "outputs": [],
   "source": [
    "#menghilangkan data yang tidak digunakan\n",
    "dataframe = df.drop(columns=['DAY_OF_MONTH', 'DAY_OF_WEEK', 'OP_UNIQUE_CARRIER', 'OP_CARRIER_AIRLINE_ID', \n",
    "'OP_CARRIER', 'TAIL_NUM', 'OP_CARRIER_FL_NUM', 'ORIGIN_AIRPORT_ID', 'ORIGIN', 'DEST_AIRPORT_ID', 'DEST', 'DEP_TIME_BLK', 'DISTANCE', 'DIVERTED'])\n",
    "#menampilkan data\n",
    "dataframe = dataframe.head(100)"
   ]
  },
  {
   "cell_type": "code",
   "execution_count": 190,
   "metadata": {},
   "outputs": [
    {
     "name": "stdout",
     "output_type": "stream",
     "text": [
      "[[6.010e+02 0.000e+00 7.220e+02 0.000e+00]\n",
      " [1.359e+03 0.000e+00 1.633e+03 0.000e+00]\n",
      " [1.215e+03 0.000e+00 1.329e+03 0.000e+00]\n",
      " [1.521e+03 0.000e+00 1.625e+03 0.000e+00]\n",
      " [1.847e+03 0.000e+00 1.940e+03 0.000e+00]\n",
      " [8.530e+02 0.000e+00 9.530e+02 0.000e+00]\n",
      " [1.553e+03 0.000e+00 1.832e+03 0.000e+00]\n",
      " [1.551e+03 0.000e+00 1.824e+03 0.000e+00]\n",
      " [1.037e+03 0.000e+00 1.239e+03 0.000e+00]\n",
      " [1.245e+03 0.000e+00 1.318e+03 0.000e+00]\n",
      " [1.410e+03 0.000e+00 1.700e+03 0.000e+00]\n",
      " [5.570e+02 0.000e+00 7.370e+02 0.000e+00]\n",
      " [1.552e+03 0.000e+00 1.738e+03 1.000e+00]\n",
      " [2.029e+03 0.000e+00 2.259e+03 0.000e+00]\n",
      " [1.312e+03 0.000e+00 1.454e+03 0.000e+00]\n",
      " [1.450e+03 0.000e+00 1.637e+03 0.000e+00]\n",
      " [1.353e+03 1.000e+00 1.521e+03 1.000e+00]\n",
      " [1.148e+03 0.000e+00 1.236e+03 0.000e+00]\n",
      " [1.020e+03 0.000e+00 1.111e+03 0.000e+00]\n",
      " [8.170e+02 0.000e+00 9.320e+02 0.000e+00]\n",
      " [1.523e+03 0.000e+00 1.748e+03 0.000e+00]\n",
      " [1.111e+03 0.000e+00 1.157e+03 0.000e+00]\n",
      " [2.216e+03 0.000e+00 1.600e+01 1.000e+00]\n",
      " [1.554e+03 0.000e+00 1.713e+03 0.000e+00]\n",
      " [1.740e+03 0.000e+00 1.903e+03 0.000e+00]\n",
      " [1.101e+03 0.000e+00 1.300e+03 0.000e+00]\n",
      " [1.332e+03 0.000e+00 1.532e+03 0.000e+00]\n",
      " [1.349e+03 0.000e+00 1.442e+03 0.000e+00]\n",
      " [8.070e+02 0.000e+00 9.140e+02 0.000e+00]\n",
      " [8.340e+02 0.000e+00 1.111e+03 0.000e+00]\n",
      " [1.637e+03 0.000e+00 1.728e+03 0.000e+00]\n",
      " [1.516e+03 0.000e+00 1.605e+03 0.000e+00]\n",
      " [1.242e+03 0.000e+00 1.338e+03 0.000e+00]\n",
      " [1.957e+03 0.000e+00 1.950e+03 0.000e+00]\n",
      " [1.136e+03 0.000e+00 1.252e+03 0.000e+00]\n",
      " [1.739e+03 0.000e+00 1.951e+03 0.000e+00]\n",
      " [2.111e+03 0.000e+00 2.246e+03 0.000e+00]\n",
      " [2.230e+03 0.000e+00 2.325e+03 0.000e+00]\n",
      " [6.530e+02 0.000e+00 8.530e+02 0.000e+00]\n",
      " [1.305e+03 0.000e+00 1.442e+03 0.000e+00]\n",
      " [1.518e+03 0.000e+00 1.636e+03 0.000e+00]\n",
      " [1.542e+03 0.000e+00 1.715e+03 0.000e+00]\n",
      " [1.755e+03 0.000e+00 1.908e+03 0.000e+00]\n",
      " [1.550e+03 0.000e+00 1.859e+03 1.000e+00]\n",
      " [2.009e+03 0.000e+00 2.049e+03 0.000e+00]\n",
      " [8.540e+02 0.000e+00 8.540e+02 0.000e+00]\n",
      " [9.310e+02 0.000e+00 1.134e+03 0.000e+00]\n",
      " [1.234e+03 0.000e+00 1.345e+03 0.000e+00]\n",
      " [2.036e+03 0.000e+00 2.233e+03 1.000e+00]\n",
      " [2.210e+03 0.000e+00 2.252e+03 0.000e+00]\n",
      " [1.755e+03 0.000e+00 1.927e+03 0.000e+00]\n",
      " [1.627e+03 0.000e+00 1.913e+03 0.000e+00]\n",
      " [7.270e+02 0.000e+00 1.003e+03 0.000e+00]\n",
      " [1.206e+03 0.000e+00 1.246e+03 0.000e+00]\n",
      " [1.353e+03 0.000e+00 1.651e+03 0.000e+00]\n",
      " [8.170e+02 1.000e+00 9.000e+02 1.000e+00]\n",
      " [1.617e+03 0.000e+00 1.621e+03 0.000e+00]\n",
      " [6.360e+02 0.000e+00 8.500e+02 0.000e+00]\n",
      " [1.729e+03 0.000e+00 1.829e+03 0.000e+00]\n",
      " [9.070e+02 0.000e+00 9.580e+02 0.000e+00]\n",
      " [1.049e+03 0.000e+00 1.150e+03 0.000e+00]\n",
      " [2.034e+03 0.000e+00 2.343e+03 0.000e+00]\n",
      " [7.440e+02 0.000e+00 1.010e+03 0.000e+00]\n",
      " [5.530e+02 0.000e+00 8.270e+02 0.000e+00]\n",
      " [1.742e+03 0.000e+00 1.832e+03 0.000e+00]\n",
      " [1.021e+03 0.000e+00 1.014e+03 0.000e+00]\n",
      " [1.411e+03 1.000e+00 1.558e+03 1.000e+00]\n",
      " [1.518e+03 0.000e+00 1.626e+03 0.000e+00]\n",
      " [1.325e+03 0.000e+00 1.418e+03 0.000e+00]\n",
      " [2.006e+03 0.000e+00 2.224e+03 1.000e+00]\n",
      " [1.715e+03 0.000e+00 1.816e+03 0.000e+00]\n",
      " [1.514e+03 0.000e+00 1.617e+03 0.000e+00]\n",
      " [1.530e+03 0.000e+00 1.629e+03 0.000e+00]\n",
      " [9.360e+02 0.000e+00 1.116e+03 0.000e+00]\n",
      " [1.156e+03 0.000e+00 1.359e+03 0.000e+00]\n",
      " [9.390e+02 1.000e+00 1.043e+03 0.000e+00]\n",
      " [8.240e+02 0.000e+00 1.035e+03 0.000e+00]\n",
      " [1.014e+03 0.000e+00 1.116e+03 0.000e+00]\n",
      " [9.120e+02 0.000e+00 1.005e+03 0.000e+00]\n",
      " [6.010e+02 0.000e+00 7.040e+02 0.000e+00]\n",
      " [5.570e+02 0.000e+00 8.190e+02 0.000e+00]\n",
      " [1.621e+03 0.000e+00 1.706e+03 0.000e+00]\n",
      " [1.651e+03 0.000e+00 1.831e+03 0.000e+00]\n",
      " [1.835e+03 0.000e+00 1.952e+03 0.000e+00]\n",
      " [1.701e+03 1.000e+00 1.814e+03 0.000e+00]\n",
      " [1.840e+03 0.000e+00 2.010e+03 0.000e+00]\n",
      " [8.300e+02 0.000e+00 9.400e+02 0.000e+00]\n",
      " [1.952e+03 0.000e+00 2.115e+03 0.000e+00]\n",
      " [1.454e+03 0.000e+00 1.700e+03 0.000e+00]\n",
      " [1.936e+03 0.000e+00 2.049e+03 0.000e+00]\n",
      " [6.510e+02 0.000e+00 7.430e+02 0.000e+00]\n",
      " [1.116e+03 0.000e+00 1.445e+03 0.000e+00]\n",
      " [2.219e+03 0.000e+00 2.325e+03 0.000e+00]\n",
      " [1.451e+03 0.000e+00 1.601e+03 0.000e+00]\n",
      " [1.644e+03 0.000e+00 1.817e+03 0.000e+00]\n",
      " [8.430e+02 0.000e+00 1.017e+03 0.000e+00]\n",
      " [1.743e+03 0.000e+00 1.931e+03 0.000e+00]\n",
      " [5.490e+02 0.000e+00 8.420e+02 0.000e+00]\n",
      " [1.047e+03 0.000e+00 1.219e+03 0.000e+00]\n",
      " [1.253e+03 0.000e+00 1.415e+03 0.000e+00]]\n"
     ]
    }
   ],
   "source": [
    "array = dataframe.values #mengubah dataframe menjadi array\n",
    "X = array[:, :4] #slicing mundur 1 dari nomor tabel\n",
    "Y = array[:,4]\n",
    "print(X)"
   ]
  },
  {
   "cell_type": "code",
   "execution_count": 191,
   "metadata": {},
   "outputs": [],
   "source": [
    "# memisahkan X dan Y menjadi data test dan data training\n",
    "\n",
    "from sklearn.model_selection import train_test_split\n",
    "\n",
    "X_train, X_test, y_train, y_test = train_test_split(X, Y, test_size = 0.2, random_state = 0)"
   ]
  },
  {
   "cell_type": "code",
   "execution_count": 192,
   "metadata": {},
   "outputs": [],
   "source": [
    "from sklearn.preprocessing import RobustScaler\n",
    "\n",
    "scaler = RobustScaler()\n",
    "\n",
    "X_train = scaler.fit_transform(X_train)\n",
    "\n",
    "X_test = scaler.transform(X_test)"
   ]
  },
  {
   "cell_type": "code",
   "execution_count": 193,
   "metadata": {},
   "outputs": [
    {
     "data": {
      "text/html": [
       "<style>#sk-container-id-8 {color: black;background-color: white;}#sk-container-id-8 pre{padding: 0;}#sk-container-id-8 div.sk-toggleable {background-color: white;}#sk-container-id-8 label.sk-toggleable__label {cursor: pointer;display: block;width: 100%;margin-bottom: 0;padding: 0.3em;box-sizing: border-box;text-align: center;}#sk-container-id-8 label.sk-toggleable__label-arrow:before {content: \"▸\";float: left;margin-right: 0.25em;color: #696969;}#sk-container-id-8 label.sk-toggleable__label-arrow:hover:before {color: black;}#sk-container-id-8 div.sk-estimator:hover label.sk-toggleable__label-arrow:before {color: black;}#sk-container-id-8 div.sk-toggleable__content {max-height: 0;max-width: 0;overflow: hidden;text-align: left;background-color: #f0f8ff;}#sk-container-id-8 div.sk-toggleable__content pre {margin: 0.2em;color: black;border-radius: 0.25em;background-color: #f0f8ff;}#sk-container-id-8 input.sk-toggleable__control:checked~div.sk-toggleable__content {max-height: 200px;max-width: 100%;overflow: auto;}#sk-container-id-8 input.sk-toggleable__control:checked~label.sk-toggleable__label-arrow:before {content: \"▾\";}#sk-container-id-8 div.sk-estimator input.sk-toggleable__control:checked~label.sk-toggleable__label {background-color: #d4ebff;}#sk-container-id-8 div.sk-label input.sk-toggleable__control:checked~label.sk-toggleable__label {background-color: #d4ebff;}#sk-container-id-8 input.sk-hidden--visually {border: 0;clip: rect(1px 1px 1px 1px);clip: rect(1px, 1px, 1px, 1px);height: 1px;margin: -1px;overflow: hidden;padding: 0;position: absolute;width: 1px;}#sk-container-id-8 div.sk-estimator {font-family: monospace;background-color: #f0f8ff;border: 1px dotted black;border-radius: 0.25em;box-sizing: border-box;margin-bottom: 0.5em;}#sk-container-id-8 div.sk-estimator:hover {background-color: #d4ebff;}#sk-container-id-8 div.sk-parallel-item::after {content: \"\";width: 100%;border-bottom: 1px solid gray;flex-grow: 1;}#sk-container-id-8 div.sk-label:hover label.sk-toggleable__label {background-color: #d4ebff;}#sk-container-id-8 div.sk-serial::before {content: \"\";position: absolute;border-left: 1px solid gray;box-sizing: border-box;top: 0;bottom: 0;left: 50%;z-index: 0;}#sk-container-id-8 div.sk-serial {display: flex;flex-direction: column;align-items: center;background-color: white;padding-right: 0.2em;padding-left: 0.2em;position: relative;}#sk-container-id-8 div.sk-item {position: relative;z-index: 1;}#sk-container-id-8 div.sk-parallel {display: flex;align-items: stretch;justify-content: center;background-color: white;position: relative;}#sk-container-id-8 div.sk-item::before, #sk-container-id-8 div.sk-parallel-item::before {content: \"\";position: absolute;border-left: 1px solid gray;box-sizing: border-box;top: 0;bottom: 0;left: 50%;z-index: -1;}#sk-container-id-8 div.sk-parallel-item {display: flex;flex-direction: column;z-index: 1;position: relative;background-color: white;}#sk-container-id-8 div.sk-parallel-item:first-child::after {align-self: flex-end;width: 50%;}#sk-container-id-8 div.sk-parallel-item:last-child::after {align-self: flex-start;width: 50%;}#sk-container-id-8 div.sk-parallel-item:only-child::after {width: 0;}#sk-container-id-8 div.sk-dashed-wrapped {border: 1px dashed gray;margin: 0 0.4em 0.5em 0.4em;box-sizing: border-box;padding-bottom: 0.4em;background-color: white;}#sk-container-id-8 div.sk-label label {font-family: monospace;font-weight: bold;display: inline-block;line-height: 1.2em;}#sk-container-id-8 div.sk-label-container {text-align: center;}#sk-container-id-8 div.sk-container {/* jupyter's `normalize.less` sets `[hidden] { display: none; }` but bootstrap.min.css set `[hidden] { display: none !important; }` so we also need the `!important` here to be able to override the default hidden behavior on the sphinx rendered scikit-learn.org. See: https://github.com/scikit-learn/scikit-learn/issues/21755 */display: inline-block !important;position: relative;}#sk-container-id-8 div.sk-text-repr-fallback {display: none;}</style><div id=\"sk-container-id-8\" class=\"sk-top-container\"><div class=\"sk-text-repr-fallback\"><pre>GaussianNB()</pre><b>In a Jupyter environment, please rerun this cell to show the HTML representation or trust the notebook. <br />On GitHub, the HTML representation is unable to render, please try loading this page with nbviewer.org.</b></div><div class=\"sk-container\" hidden><div class=\"sk-item\"><div class=\"sk-estimator sk-toggleable\"><input class=\"sk-toggleable__control sk-hidden--visually\" id=\"sk-estimator-id-8\" type=\"checkbox\" checked><label for=\"sk-estimator-id-8\" class=\"sk-toggleable__label sk-toggleable__label-arrow\">GaussianNB</label><div class=\"sk-toggleable__content\"><pre>GaussianNB()</pre></div></div></div></div></div>"
      ],
      "text/plain": [
       "GaussianNB()"
      ]
     },
     "execution_count": 193,
     "metadata": {},
     "output_type": "execute_result"
    }
   ],
   "source": [
    "# import Gaussian Naive Bayes model\n",
    "from sklearn.naive_bayes import GaussianNB\n",
    "\n",
    "\n",
    "# membuat fungsi klasifikasi naive bayes\n",
    "gnb = GaussianNB()\n",
    "\n",
    "\n",
    "# memasukkan data training pada fungsi klasifikasi naive bayes\n",
    "gnb.fit(X_train, y_train)"
   ]
  },
  {
   "cell_type": "code",
   "execution_count": 194,
   "metadata": {},
   "outputs": [
    {
     "data": {
      "text/plain": [
       "array([0., 0., 0., 0., 0., 0., 0., 0., 0., 0., 0., 0., 0., 0., 0., 0., 0.,\n",
       "       0., 0., 0.])"
      ]
     },
     "execution_count": 194,
     "metadata": {},
     "output_type": "execute_result"
    }
   ],
   "source": [
    "# menentukan hasil prediksi  dari x_test\n",
    "y_pred = gnb.predict(X_test)\n",
    "\n",
    "y_pred"
   ]
  },
  {
   "cell_type": "code",
   "execution_count": 195,
   "metadata": {},
   "outputs": [
    {
     "name": "stdout",
     "output_type": "stream",
     "text": [
      "Model accuracy score: 1.0000\n"
     ]
    }
   ],
   "source": [
    "from sklearn.metrics import accuracy_score\n",
    "#menampilkan nilai akurasi dari klasifikasi naive bayes\n",
    "print('Model accuracy score: {0:0.4f}'. format(accuracy_score(y_test, y_pred)))"
   ]
  },
  {
   "cell_type": "code",
   "execution_count": 196,
   "metadata": {},
   "outputs": [
    {
     "data": {
      "text/plain": [
       "array([0., 0., 0., 0., 0., 0., 0., 0., 0., 0., 0., 0., 0., 0., 0., 0., 0.,\n",
       "       0., 0., 0., 0., 0., 0., 0., 0., 0., 0., 0., 0., 0., 0., 0., 0., 0.,\n",
       "       0., 0., 0., 0., 0., 0., 0., 0., 0., 0., 0., 0., 0., 0., 0., 0., 0.,\n",
       "       0., 0., 0., 0., 0., 0., 0., 0., 0., 0., 0., 0., 0., 0., 0., 0., 0.,\n",
       "       0., 0., 0., 0., 0., 0., 0., 0., 0., 0., 0., 0.])"
      ]
     },
     "execution_count": 196,
     "metadata": {},
     "output_type": "execute_result"
    }
   ],
   "source": [
    "# menentukan hasil prediksi  dari x_train\n",
    "y_pred_train = gnb.predict(X_train)\n",
    "\n",
    "y_pred_train"
   ]
  },
  {
   "cell_type": "code",
   "execution_count": 197,
   "metadata": {},
   "outputs": [
    {
     "name": "stdout",
     "output_type": "stream",
     "text": [
      "Training-set accuracy score: 1.0000\n"
     ]
    }
   ],
   "source": [
    "#menampilkan hasil akurasi \n",
    "print('Training-set accuracy score: {0:0.4f}'. format(accuracy_score(y_train, y_pred_train)))"
   ]
  },
  {
   "cell_type": "code",
   "execution_count": 198,
   "metadata": {},
   "outputs": [
    {
     "name": "stdout",
     "output_type": "stream",
     "text": [
      "Training set score: 1.0000\n",
      "Test set score: 1.0000\n"
     ]
    }
   ],
   "source": [
    "# menampilkan hasil data training dan data test\n",
    "\n",
    "print('Training set score: {:.4f}'.format(gnb.score(X_train, y_train)))\n",
    "\n",
    "print('Test set score: {:.4f}'.format(gnb.score(X_test, y_test)))"
   ]
  },
  {
   "cell_type": "code",
   "execution_count": 199,
   "metadata": {},
   "outputs": [
    {
     "name": "stdout",
     "output_type": "stream",
     "text": [
      "Confusion matrix\n",
      "\n",
      " [[20]]\n",
      "\n",
      "True Positives(TP) =  20\n"
     ]
    }
   ],
   "source": [
    "# menampilkan confusion matriks dan dibagi menjadi 4 bagian\n",
    "\n",
    "from sklearn.metrics import confusion_matrix\n",
    "\n",
    "cm = confusion_matrix(y_test, y_pred)\n",
    "\n",
    "print('Confusion matrix\\n\\n', cm)\n",
    "\n",
    "print('\\nTrue Positives(TP) = ', cm[0,0])"
   ]
  }
 ],
 "metadata": {
  "kernelspec": {
   "display_name": "Python 3",
   "language": "python",
   "name": "python3"
  },
  "language_info": {
   "codemirror_mode": {
    "name": "ipython",
    "version": 3
   },
   "file_extension": ".py",
   "mimetype": "text/x-python",
   "name": "python",
   "nbconvert_exporter": "python",
   "pygments_lexer": "ipython3",
   "version": "3.10.4 (tags/v3.10.4:9d38120, Mar 23 2022, 23:13:41) [MSC v.1929 64 bit (AMD64)]"
  },
  "orig_nbformat": 4,
  "vscode": {
   "interpreter": {
    "hash": "26de051ba29f2982a8de78e945f0abaf191376122a1563185a90213a26c5da77"
   }
  }
 },
 "nbformat": 4,
 "nbformat_minor": 2
}
